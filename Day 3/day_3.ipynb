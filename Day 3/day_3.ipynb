{
  "nbformat": 4,
  "nbformat_minor": 0,
  "metadata": {
    "colab": {
      "provenance": [],
      "toc_visible": true
    },
    "kernelspec": {
      "name": "python3",
      "display_name": "Python 3"
    },
    "language_info": {
      "name": "python"
    }
  },
  "cells": [
    {
      "cell_type": "markdown",
      "source": [
        "TASK 1"
      ],
      "metadata": {
        "id": "7P8YNFtKsaVu"
      }
    },
    {
      "cell_type": "markdown",
      "source": [],
      "metadata": {
        "id": "sAM9_53Wdz8u"
      }
    },
    {
      "cell_type": "code",
      "source": [
        "def bark(name):\n",
        "    return f\"{name} says: Woof! Woof!\"\n",
        "\n",
        "def sleep(name):\n",
        "    return f\"{name} is sleeping... Zzz...\"\n",
        "\n",
        "name = \"Buddy\"\n",
        "age = 3\n",
        "\n",
        "print(bark(name))\n",
        "print(sleep(name))\n"
      ],
      "metadata": {
        "id": "EwlJPyVG_8MA"
      },
      "execution_count": null,
      "outputs": []
    },
    {
      "cell_type": "markdown",
      "source": [
        "TASK 2"
      ],
      "metadata": {
        "id": "uioliMcHdq2R"
      }
    },
    {
      "cell_type": "markdown",
      "source": [],
      "metadata": {
        "id": "-t26YQrvdvck"
      }
    },
    {
      "cell_type": "code",
      "execution_count": null,
      "metadata": {
        "colab": {
          "base_uri": "https://localhost:8080/"
        },
        "id": "vaStDmyxr8gN",
        "outputId": "9f990b4e-a8ed-4614-f06e-8de8a9e6d14c"
      },
      "outputs": [
        {
          "output_type": "stream",
          "name": "stdout",
          "text": [
            "Buddy says: Woof! Woof!\n",
            "Buddy is sleeping... Zzz...\n"
          ]
        }
      ],
      "source": [
        "class Dog:\n",
        "    def __init__(self, name, age):\n",
        "        self.name = name\n",
        "        self.age = age\n",
        "\n",
        "    def bark(self):\n",
        "        return f\"{self.name} says: Woof! Woof!\"\n",
        "\n",
        "    def sleep(self):\n",
        "        return f\"{self.name} is sleeping... Zzz...\"\n",
        "\n",
        "# Example usage\n",
        "dog1 = Dog(\"Buddy\", 3)\n",
        "print(dog1.bark())\n",
        "print(dog1.sleep())\n"
      ]
    },
    {
      "cell_type": "markdown",
      "source": [
        "TASK 3"
      ],
      "metadata": {
        "id": "D6Vex9ShrPpz"
      }
    },
    {
      "cell_type": "code",
      "source": [
        "class Dog:\n",
        "    def __init__(self, name, breed):\n",
        "        self.name = name\n",
        "        self.breed = breed\n",
        "\n",
        "    def bark(self):\n",
        "        return \"Woof! Woof!\"\n",
        "\n",
        "    def sleep(self):\n",
        "        return f\"{self.name} is sleeping.\"\n",
        "\n",
        "class Puppy(Dog):\n",
        "    def __init__(self, name, breed, age_in_months):\n",
        "        super().__init__(name, breed)\n",
        "        self.age_in_months = age_in_months\n",
        "\n",
        "    def whine(self):\n",
        "        return \"Whimper... Whimper...\"\n",
        "\n",
        "    def play(self):\n",
        "        return f\"{self.name} is playing joyfully!\"\n",
        "\n",
        "puppy = Puppy(\"Buddy\", \"Golden Retriever\", 3)\n",
        "print(puppy.bark())\n",
        "print(puppy.sleep())\n",
        "print(puppy.play())"
      ],
      "metadata": {
        "colab": {
          "base_uri": "https://localhost:8080/"
        },
        "id": "_qJfJTKLoyGy",
        "outputId": "d03853af-69e7-468d-834a-c719676c1b55"
      },
      "execution_count": null,
      "outputs": [
        {
          "output_type": "stream",
          "name": "stdout",
          "text": [
            "Woof! Woof!\n",
            "Buddy is sleeping.\n",
            "Buddy is playing joyfully!\n"
          ]
        }
      ]
    },
    {
      "cell_type": "markdown",
      "source": [],
      "metadata": {
        "id": "oUVBCqRXrSkF"
      }
    },
    {
      "cell_type": "markdown",
      "source": [
        "TASK 4"
      ],
      "metadata": {
        "id": "Akp-KWjdrLsa"
      }
    },
    {
      "cell_type": "code",
      "source": [
        "class Dog:\n",
        "    def __init__(self, name, breed):\n",
        "        self.name = name\n",
        "        self.breed = breed\n",
        "\n",
        "    def bark(self):\n",
        "        return \"Woof! Woof!\"\n",
        "\n",
        "    def sleep(self):\n",
        "        return f\"{self.name} is sleeping.\"\n",
        "\n",
        "class Cat:\n",
        "    def __init__(self, name, color):\n",
        "        self.name = name\n",
        "        self.color = color\n",
        "\n",
        "    def meow(self):\n",
        "        return \"Meow! Meow!\"\n",
        "\n",
        "    def purr(self):\n",
        "        return \"Purr... Purr...\"\n",
        "\n",
        "class Hybrid(Dog, Cat):\n",
        "    def __init__(self, name, breed, color):\n",
        "        Dog.__init__(self, name, breed)\n",
        "        Cat.__init__(self, name, color)\n",
        "\n",
        "    def display_traits(self):\n",
        "        return f\"{self.name} is a hybrid of {self.breed} and {self.color} cat.\"\n",
        "\n",
        "hybrid = Hybrid(\"Max\", \"Labrador\", \"Black\")\n",
        "print(hybrid.bark())\n",
        "print(hybrid.meow())\n",
        "print(hybrid.sleep())\n",
        "print(hybrid.purr())\n",
        "print(hybrid.display_traits())"
      ],
      "metadata": {
        "colab": {
          "base_uri": "https://localhost:8080/"
        },
        "id": "8L5wE61apvzx",
        "outputId": "a5174f1e-fe42-4463-9524-d938923dec99"
      },
      "execution_count": null,
      "outputs": [
        {
          "output_type": "stream",
          "name": "stdout",
          "text": [
            "Woof! Woof!\n",
            "Meow! Meow!\n",
            "Max is sleeping.\n",
            "Purr... Purr...\n",
            "Max is a hybrid of Labrador and Black cat.\n"
          ]
        }
      ]
    },
    {
      "cell_type": "code",
      "source": [],
      "metadata": {
        "id": "pvCztLaJl0Tt"
      },
      "execution_count": null,
      "outputs": []
    },
    {
      "cell_type": "code",
      "source": [],
      "metadata": {
        "id": "dJQgu_yrrJiw"
      },
      "execution_count": null,
      "outputs": []
    },
    {
      "cell_type": "markdown",
      "source": [
        "TASK 6"
      ],
      "metadata": {
        "id": "edSgxw4Pr2OJ"
      }
    },
    {
      "cell_type": "markdown",
      "source": [
        "class Animal:\n",
        "    def speak(self):\n",
        "        raise NotImplementedError(\"Subclasses must implement this method\")\n",
        "\n",
        "class Dog(Animal):\n",
        "    def speak(self):\n",
        "        return \"Woof! Woof!\"\n",
        "\n",
        "class Cat(Animal):\n",
        "    def speak(self):\n",
        "        return \"Meow! Meow!\"\n",
        "\n",
        "def animal_speak(animal):\n",
        "    return animal.speak()\n",
        "\n",
        "dog = Dog()\n",
        "cat = Cat()\n",
        "\n",
        "print(animal_speak(dog))\n",
        "print(animal_speak(cat))"
      ],
      "metadata": {
        "id": "S6Qyyq9ur6WT"
      }
    }
  ]
}